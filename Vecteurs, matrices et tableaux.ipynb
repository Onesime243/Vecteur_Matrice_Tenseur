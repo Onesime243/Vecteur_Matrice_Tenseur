{
 "cells": [
  {
   "cell_type": "markdown",
   "id": "80e27c3e",
   "metadata": {},
   "source": [
    "# Je suis \n",
    "\n",
    "**Onesime Mbulayi**, Phd Candidate\n",
    "\n",
    "**Domain de Recherche : Machine Learning & Bioinformatique**"
   ]
  },
  {
   "cell_type": "markdown",
   "id": "4ef35a44",
   "metadata": {},
   "source": [
    "# 1.0 Introduction"
   ]
  },
  {
   "cell_type": "markdown",
   "id": "7ac36a5d",
   "metadata": {},
   "source": [
    "NumPy est la base de le moteur d'apprentissage automatique Python. \n",
    "NumPy permet des opérations efficaces sur les structures de données souvent utilisées en apprentissage automatique : **vecteurs**, **matrices** et **tenseurs ou flow des matrices**. "
   ]
  },
  {
   "cell_type": "markdown",
   "id": "fd7b2977",
   "metadata": {},
   "source": [
    "## 1.1 Création d'un vecteur"
   ]
  },
  {
   "cell_type": "code",
   "execution_count": 134,
   "id": "7644ed7f",
   "metadata": {},
   "outputs": [],
   "source": [
    "import numpy as np  #importation du librarie numpy\n",
    "\n",
    "vecteur_ligne = np.array([1, 2, 3])  #Creation du vecteur sous forme d'une ligne\n",
    "\n",
    "vecteur_colonne = np.array([[1],[2], [3]]) #Creation du vecteur sous forme d'une ligne"
   ]
  },
  {
   "cell_type": "code",
   "execution_count": 135,
   "id": "c06762da",
   "metadata": {},
   "outputs": [
    {
     "data": {
      "text/plain": [
       "array([1, 2, 3])"
      ]
     },
     "execution_count": 135,
     "metadata": {},
     "output_type": "execute_result"
    }
   ],
   "source": [
    "vecteur_ligne     # Affichage du vecteur_ligne"
   ]
  },
  {
   "cell_type": "code",
   "execution_count": 136,
   "id": "4adafd9f",
   "metadata": {},
   "outputs": [
    {
     "data": {
      "text/plain": [
       "array([[1],\n",
       "       [2],\n",
       "       [3]])"
      ]
     },
     "execution_count": 136,
     "metadata": {},
     "output_type": "execute_result"
    }
   ],
   "source": [
    "vecteur_colonne    #affichage du vecteur_colonne"
   ]
  },
  {
   "cell_type": "markdown",
   "id": "9efdbe3c",
   "metadata": {},
   "source": [
    "**Nota** : La structure de données principale de NumPy est le tableau multidimensionnel. Pour créer un vecteur, nous créons simplement un tableau unidimensionnel. Tout comme les vecteurs, ces tableaux peuvent être représentés horizontalement (c'est-à-dire des lignes) ou verticalement (c'est-à-dire des colonnes)."
   ]
  },
  {
   "cell_type": "markdown",
   "id": "7cb66d5c",
   "metadata": {},
   "source": [
    "## 1.2 Création d'une matrice"
   ]
  },
  {
   "cell_type": "code",
   "execution_count": 137,
   "id": "c8ab457c",
   "metadata": {},
   "outputs": [
    {
     "data": {
      "text/plain": [
       "array([[ 1,  2],\n",
       "       [ 4,  7],\n",
       "       [13,  9]])"
      ]
     },
     "execution_count": 137,
     "metadata": {},
     "output_type": "execute_result"
    }
   ],
   "source": [
    "matrice = np.array([[1, 2],\n",
    "                    [4, 7], \n",
    "                    [13, 9]]) # Creatin de la matrice a 3 lignes et 2 colonnes avec numpy\n",
    "matrice"
   ]
  },
  {
   "cell_type": "markdown",
   "id": "aac27f94",
   "metadata": {},
   "source": [
    "Pour créer une matrice avec Numpy, nous pouvons utiliser un tableau bidimensionnel. Dans notre exercice précédent, la matrice contient trois lignes et deux colonnes.\n",
    "\n",
    "Cependant, la structure des données matricielles n’est pas recommandée pour deux raisons. Premièrement, les tableaux constituent la structure de données standard de facto de NumPy. Deuxièmement, la grande majorité des opérations NumPy renvoient des tableaux, pas des objets matriciels."
   ]
  },
  {
   "cell_type": "markdown",
   "id": "4969749d",
   "metadata": {},
   "source": [
    "## 1.3 Sélection des éléments d'une matrices"
   ]
  },
  {
   "cell_type": "code",
   "execution_count": 138,
   "id": "cb2425f6",
   "metadata": {},
   "outputs": [
    {
     "data": {
      "text/plain": [
       "3"
      ]
     },
     "execution_count": 138,
     "metadata": {},
     "output_type": "execute_result"
    }
   ],
   "source": [
    "vecteur = np.array([1, 2, 3, 4, 5, 6])  # Creation du vecteur sous forme d'une ligne\n",
    "\n",
    "matrice = np.array([[1, 2, 3],\n",
    "                   [4, 5, 6],\n",
    "                   [7, 8, 9]]) # Creation d'une matrice de 3 lignes et 3 colonnes.\n",
    "\n",
    "vecteur[2]  # Sélectionnez le troisième élément du vecteur"
   ]
  },
  {
   "cell_type": "code",
   "execution_count": 139,
   "id": "6189f115",
   "metadata": {},
   "outputs": [
    {
     "data": {
      "text/plain": [
       "5"
      ]
     },
     "execution_count": 139,
     "metadata": {},
     "output_type": "execute_result"
    }
   ],
   "source": [
    "matrice[1,1]   # Sélectionnez la deuxième ligne, la deuxième colonne"
   ]
  },
  {
   "cell_type": "markdown",
   "id": "da1e7638",
   "metadata": {},
   "source": [
    "**Nota** : Comme la plupart des éléments en Python, les tableaux NumPy sont indexés à zéro, ce qui signifie que l'index du premier élément est 0 et non 1. Avec cette mise en garde, NumPy propose une grande variété de méthodes pour sélectionner (c'est-à-dire indexer et découper) des éléments ou des groupes. d'éléments dans des tableaux :"
   ]
  },
  {
   "cell_type": "code",
   "execution_count": 140,
   "id": "aea65924",
   "metadata": {},
   "outputs": [
    {
     "data": {
      "text/plain": [
       "array([1, 2, 3, 4, 5, 6])"
      ]
     },
     "execution_count": 140,
     "metadata": {},
     "output_type": "execute_result"
    }
   ],
   "source": [
    "# Sélectionner tous les éléments d'un vecteur\n",
    "vecteur[:]"
   ]
  },
  {
   "cell_type": "code",
   "execution_count": 141,
   "id": "5b258afb",
   "metadata": {},
   "outputs": [
    {
     "data": {
      "text/plain": [
       "array([1, 2, 3])"
      ]
     },
     "execution_count": 141,
     "metadata": {},
     "output_type": "execute_result"
    }
   ],
   "source": [
    "# Sélectionnez tout jusqu'au troisième élément inclus\n",
    "vecteur[:3]"
   ]
  },
  {
   "cell_type": "code",
   "execution_count": 142,
   "id": "9247c042",
   "metadata": {},
   "outputs": [
    {
     "data": {
      "text/plain": [
       "array([4, 5, 6])"
      ]
     },
     "execution_count": 142,
     "metadata": {},
     "output_type": "execute_result"
    }
   ],
   "source": [
    "# Sélectionnez tout après le troisième élément\n",
    "vecteur[3:]"
   ]
  },
  {
   "cell_type": "code",
   "execution_count": 143,
   "id": "a47e3d3b",
   "metadata": {},
   "outputs": [
    {
     "data": {
      "text/plain": [
       "6"
      ]
     },
     "execution_count": 143,
     "metadata": {},
     "output_type": "execute_result"
    }
   ],
   "source": [
    "# Sélectionnez le dernier élément\n",
    "vecteur[-1]"
   ]
  },
  {
   "cell_type": "code",
   "execution_count": 144,
   "id": "5783a5e6",
   "metadata": {},
   "outputs": [
    {
     "data": {
      "text/plain": [
       "array([[1, 2, 3],\n",
       "       [4, 5, 6]])"
      ]
     },
     "execution_count": 144,
     "metadata": {},
     "output_type": "execute_result"
    }
   ],
   "source": [
    "# Sélectionnez les deux premières lignes et toutes les colonnes d'une matrice\n",
    "matrice[:2,:]"
   ]
  },
  {
   "cell_type": "code",
   "execution_count": 145,
   "id": "168a686a",
   "metadata": {},
   "outputs": [
    {
     "data": {
      "text/plain": [
       "array([[2],\n",
       "       [5],\n",
       "       [8]])"
      ]
     },
     "execution_count": 145,
     "metadata": {},
     "output_type": "execute_result"
    }
   ],
   "source": [
    "# Sélectionnez toutes les lignes et la deuxième colonne\n",
    "matrice[:,1:2]"
   ]
  },
  {
   "cell_type": "markdown",
   "id": "be0f92bb",
   "metadata": {},
   "source": [
    "## 1.4 Décrire une matrice"
   ]
  },
  {
   "cell_type": "code",
   "execution_count": 146,
   "id": "4e18f880",
   "metadata": {},
   "outputs": [
    {
     "data": {
      "text/plain": [
       "(3, 4)"
      ]
     },
     "execution_count": 146,
     "metadata": {},
     "output_type": "execute_result"
    }
   ],
   "source": [
    "matrice = np.array([[1, 2, 3, 4],\n",
    "                   [5, 6, 7, 8],\n",
    "                   [9, 10, 11, 12]]) #Creation d'une matrice de 3 lignes et 3 colonnes.\n",
    "\n",
    "matrice.shape # Afficher le nombre de lignes et de colonnes"
   ]
  },
  {
   "cell_type": "code",
   "execution_count": 147,
   "id": "5aff4e2e",
   "metadata": {},
   "outputs": [
    {
     "data": {
      "text/plain": [
       "12"
      ]
     },
     "execution_count": 147,
     "metadata": {},
     "output_type": "execute_result"
    }
   ],
   "source": [
    "matrice.size  # Afficher le nombre d'éléments (lignes * colonnes)"
   ]
  },
  {
   "cell_type": "code",
   "execution_count": 148,
   "id": "b9cbf5e1",
   "metadata": {},
   "outputs": [
    {
     "data": {
      "text/plain": [
       "2"
      ]
     },
     "execution_count": 148,
     "metadata": {},
     "output_type": "execute_result"
    }
   ],
   "source": [
    "matrice.ndim  # Afficher le nombre de dimensions"
   ]
  },
  {
   "cell_type": "markdown",
   "id": "5d819764",
   "metadata": {},
   "source": [
    "Cela peut sembler basique (et ça l’est) ; cependant, il sera toujours utile de vérifier la forme et la taille d'un réseau à la fois pour des calculs ultérieurs et simplement pour une vérification intestinale après une opération."
   ]
  },
  {
   "cell_type": "markdown",
   "id": "9cfcbb09",
   "metadata": {},
   "source": [
    "## 1.5 Application d'opérations aux éléments"
   ]
  },
  {
   "cell_type": "code",
   "execution_count": 149,
   "id": "85cb3a8f",
   "metadata": {},
   "outputs": [
    {
     "data": {
      "text/plain": [
       "array([[101, 102, 103],\n",
       "       [104, 105, 106],\n",
       "       [107, 108, 109]])"
      ]
     },
     "execution_count": 149,
     "metadata": {},
     "output_type": "execute_result"
    }
   ],
   "source": [
    "matrice = np.array([[1, 2, 3],\n",
    "                   [4, 5, 6],\n",
    "                   [7, 8, 9]]) #Creation d'une matrice de 3 lignes et 3 colonnes.\n",
    "\n",
    "# Créer une fonction qui ajoute 100 à quelque chose\n",
    "ajoute_100 = lambda i: i + 100\n",
    "\n",
    "# Créer une fonction vectorisée\n",
    "vectorized_ajoute_100 = np.vectorize(ajoute_100)\n",
    "\n",
    "# Appliquer la fonction à tous les éléments de la matrice\n",
    "vectorized_ajoute_100(matrice)"
   ]
  },
  {
   "cell_type": "markdown",
   "id": "2fe23980",
   "metadata": {},
   "source": [
    "**Nota**: La classe vectorize de NumPy convertit une fonction en une fonction qui peut s'appliquer à tous les éléments d'un tableau ou d'une tranche d'un tableau. Il convient de noter que la vectorisation est essentiellement une boucle for sur les éléments et n'augmente pas les performances. De plus, les tableaux NumPy nous permettent d'effectuer des opérations entre tableaux même si leurs dimensions ne sont pas les mêmes (un processus appelé diffusion). Par exemple, nous pouvons créer une version beaucoup plus simple de notre solution en utilisant la diffusion :"
   ]
  },
  {
   "cell_type": "code",
   "execution_count": 150,
   "id": "57b3b021",
   "metadata": {},
   "outputs": [
    {
     "data": {
      "text/plain": [
       "array([[101, 102, 103],\n",
       "       [104, 105, 106],\n",
       "       [107, 108, 109]])"
      ]
     },
     "execution_count": 150,
     "metadata": {},
     "output_type": "execute_result"
    }
   ],
   "source": [
    "# Ajoutez 100 à tous les éléments\n",
    "matrice + 100"
   ]
  },
  {
   "cell_type": "markdown",
   "id": "97ce0061",
   "metadata": {},
   "source": [
    "## 1.6 Recherche des valeurs maximales et minimales"
   ]
  },
  {
   "cell_type": "code",
   "execution_count": 151,
   "id": "9148d51c",
   "metadata": {},
   "outputs": [
    {
     "data": {
      "text/plain": [
       "9"
      ]
     },
     "execution_count": 151,
     "metadata": {},
     "output_type": "execute_result"
    }
   ],
   "source": [
    "matrice = np.array([[1, 2, 3],\n",
    "                   [4, 5, 6],\n",
    "                   [7, 8, 9]]) #Creation d'une matrice de 3 lignes et 3 colonnes.\n",
    "\n",
    "# Renvoie l'élément maximum\n",
    "np.max(matrice)"
   ]
  },
  {
   "cell_type": "code",
   "execution_count": 152,
   "id": "afcd99e5",
   "metadata": {},
   "outputs": [
    {
     "data": {
      "text/plain": [
       "1"
      ]
     },
     "execution_count": 152,
     "metadata": {},
     "output_type": "execute_result"
    }
   ],
   "source": [
    "# Renvoie l'élément minimum\n",
    "np.min(matrice)"
   ]
  },
  {
   "cell_type": "markdown",
   "id": "3b2ff3f1",
   "metadata": {},
   "source": [
    "**Nota** : Nous souhaitons souvent connaître la valeur maximale et minimale d’un tableau ou d’un sous-ensemble d’un tableau. Cela peut être accompli avec les méthodes max et min. En utilisant le paramètre axis, nous pouvons également appliquer l'opération le long d'un certain axe :"
   ]
  },
  {
   "cell_type": "code",
   "execution_count": 153,
   "id": "b8a232b1",
   "metadata": {},
   "outputs": [
    {
     "data": {
      "text/plain": [
       "array([7, 8, 9])"
      ]
     },
     "execution_count": 153,
     "metadata": {},
     "output_type": "execute_result"
    }
   ],
   "source": [
    "# Trouver le maximum d'éléments dans chaque colonne\n",
    "np.max(matrice, axis=0)"
   ]
  },
  {
   "cell_type": "code",
   "execution_count": 154,
   "id": "2b03c4ef",
   "metadata": {},
   "outputs": [
    {
     "data": {
      "text/plain": [
       "array([3, 6, 9])"
      ]
     },
     "execution_count": 154,
     "metadata": {},
     "output_type": "execute_result"
    }
   ],
   "source": [
    "# Trouver le minimum d'éléments dans chaque colonne\n",
    "np.max(matrice, axis=1)"
   ]
  },
  {
   "cell_type": "markdown",
   "id": "2e53412f",
   "metadata": {},
   "source": [
    "## 1.7 Calcul de la moyenne, de la variance et de l'écart type"
   ]
  },
  {
   "cell_type": "code",
   "execution_count": 155,
   "id": "e64a163a",
   "metadata": {},
   "outputs": [
    {
     "data": {
      "text/plain": [
       "5.0"
      ]
     },
     "execution_count": 155,
     "metadata": {},
     "output_type": "execute_result"
    }
   ],
   "source": [
    "matrice = np.array([[1, 2, 3],\n",
    "                   [4, 5, 6],\n",
    "                   [7, 8, 9]]) #Creation d'une matrice de 3 lignes et 3 colonnes.\n",
    "\n",
    "# Moyenne de retour\n",
    "np.mean(matrice)"
   ]
  },
  {
   "cell_type": "code",
   "execution_count": 156,
   "id": "90503eb5",
   "metadata": {},
   "outputs": [
    {
     "data": {
      "text/plain": [
       "6.666666666666667"
      ]
     },
     "execution_count": 156,
     "metadata": {},
     "output_type": "execute_result"
    }
   ],
   "source": [
    "# Retourne la variance\n",
    "np.var(matrice)"
   ]
  },
  {
   "cell_type": "code",
   "execution_count": 157,
   "id": "55f0e3c9",
   "metadata": {},
   "outputs": [
    {
     "data": {
      "text/plain": [
       "2.581988897471611"
      ]
     },
     "execution_count": 157,
     "metadata": {},
     "output_type": "execute_result"
    }
   ],
   "source": [
    "# Retourne la standard deviation (ecart type)\n",
    "np.std(matrice)"
   ]
  },
  {
   "cell_type": "markdown",
   "id": "a92065d6",
   "metadata": {},
   "source": [
    "Tout comme avec max et min, nous pouvons facilement obtenir des statistiques descriptives sur l'ensemble de la matrice ou effectuer des calculs le long d'un seul axe :"
   ]
  },
  {
   "cell_type": "code",
   "execution_count": 158,
   "id": "d4340247",
   "metadata": {},
   "outputs": [
    {
     "data": {
      "text/plain": [
       "array([4., 5., 6.])"
      ]
     },
     "execution_count": 158,
     "metadata": {},
     "output_type": "execute_result"
    }
   ],
   "source": [
    "# Trouver la valeur moyenne dans chaque colonne\n",
    "np.mean(matrice, axis=0)"
   ]
  },
  {
   "cell_type": "markdown",
   "id": "62d5bea2",
   "metadata": {},
   "source": [
    "## 1.8 Reshaping Arrays ou Remodelage des tableaux"
   ]
  },
  {
   "cell_type": "code",
   "execution_count": 159,
   "id": "519e1fb1",
   "metadata": {},
   "outputs": [],
   "source": [
    "matrice = np.array([[1, 2, 3],\n",
    "                   [4, 5, 6],\n",
    "                   [7, 8, 9],\n",
    "                   [10, 11, 12]]) #Creation d'une matrice de 4 lignes et 3 colonnes."
   ]
  },
  {
   "cell_type": "code",
   "execution_count": 160,
   "id": "d8f075e0",
   "metadata": {},
   "outputs": [
    {
     "data": {
      "text/plain": [
       "array([[ 1,  2,  3,  4,  5,  6],\n",
       "       [ 7,  8,  9, 10, 11, 12]])"
      ]
     },
     "execution_count": 160,
     "metadata": {},
     "output_type": "execute_result"
    }
   ],
   "source": [
    "# Remodeler la matrice en matrice 2x6\n",
    "matrice.reshape(2, 6)"
   ]
  },
  {
   "cell_type": "markdown",
   "id": "d96c0678",
   "metadata": {},
   "source": [
    "reshape nous permet de restructurer un tableau afin que nous conservions les mêmes données mais qu'il soit organisé en un nombre différent de lignes et de colonnes. La seule exigence est que la forme de la matrice originale et de la nouvelle matrice contienne le même nombre d'éléments (c'est-à-dire la même taille). Nous pouvons voir la taille d'une matrice en utilisant size :"
   ]
  },
  {
   "cell_type": "code",
   "execution_count": 161,
   "id": "c6d23bd1",
   "metadata": {},
   "outputs": [
    {
     "data": {
      "text/plain": [
       "12"
      ]
     },
     "execution_count": 161,
     "metadata": {},
     "output_type": "execute_result"
    }
   ],
   "source": [
    "matrice.size"
   ]
  },
  {
   "cell_type": "markdown",
   "id": "c435c474",
   "metadata": {},
   "source": [
    "**Nota**: Un argument utile dans reshape est -1, ce qui signifie en fait « autant que nécessaire », donc reshape(-1, 1) signifie une ligne et autant de colonnes que nécessaire :"
   ]
  },
  {
   "cell_type": "code",
   "execution_count": 162,
   "id": "96cbf01c",
   "metadata": {},
   "outputs": [
    {
     "data": {
      "text/plain": [
       "array([[ 1,  2,  3,  4,  5,  6,  7,  8,  9, 10, 11, 12]])"
      ]
     },
     "execution_count": 162,
     "metadata": {},
     "output_type": "execute_result"
    }
   ],
   "source": [
    "matrice.reshape(1, -1)"
   ]
  },
  {
   "cell_type": "markdown",
   "id": "b9e8acbe",
   "metadata": {},
   "source": [
    "Enfin, si nous fournissons un entier, reshape renverra un tableau 1D de cette longueur :"
   ]
  },
  {
   "cell_type": "code",
   "execution_count": 163,
   "id": "d73ea6c1",
   "metadata": {},
   "outputs": [
    {
     "data": {
      "text/plain": [
       "array([ 1,  2,  3,  4,  5,  6,  7,  8,  9, 10, 11, 12])"
      ]
     },
     "execution_count": 163,
     "metadata": {},
     "output_type": "execute_result"
    }
   ],
   "source": [
    "matrice.reshape(12)"
   ]
  },
  {
   "cell_type": "markdown",
   "id": "3e71fa4a",
   "metadata": {},
   "source": [
    "## 1.9 Transposer un vecteur ou une matrice"
   ]
  },
  {
   "cell_type": "code",
   "execution_count": 164,
   "id": "b41d3d2e",
   "metadata": {},
   "outputs": [
    {
     "data": {
      "text/plain": [
       "array([[1, 4, 7],\n",
       "       [2, 5, 8],\n",
       "       [3, 6, 9]])"
      ]
     },
     "execution_count": 164,
     "metadata": {},
     "output_type": "execute_result"
    }
   ],
   "source": [
    "matrice = np.array([[1, 2, 3],\n",
    "                   [4, 5, 6],\n",
    "                   [7, 8, 9]]) #Creation d'une matrice de 3 lignes et 3 colonnes.\n",
    "\n",
    "# Transposer la matrice\n",
    "matrice.T"
   ]
  },
  {
   "cell_type": "markdown",
   "id": "b6a86b9b",
   "metadata": {},
   "source": [
    "**Nota**: La transposition est une opération courante en algèbre linéaire où les indices de colonne et de ligne de chaque élément sont permutés. Un point nuancé qui est généralement négligé en dehors d’une classe d’algèbre linéaire est que, techniquement, un vecteur ne peut pas être transposé car il s’agit simplement d’une collection de valeurs :"
   ]
  },
  {
   "cell_type": "code",
   "execution_count": 165,
   "id": "9332fac2",
   "metadata": {},
   "outputs": [
    {
     "data": {
      "text/plain": [
       "array([1, 2, 3, 4, 5, 6])"
      ]
     },
     "execution_count": 165,
     "metadata": {},
     "output_type": "execute_result"
    }
   ],
   "source": [
    "# Transposer le vecteur\n",
    "np.array([1, 2, 3, 4, 5, 6]).T"
   ]
  },
  {
   "cell_type": "markdown",
   "id": "5661eea5",
   "metadata": {},
   "source": [
    "Cependant, il est courant de parler de transposition d'un vecteur comme de la conversion d'un vecteur ligne en vecteur colonne (notez la deuxième paire de crochets) ou vice versa :"
   ]
  },
  {
   "cell_type": "code",
   "execution_count": 166,
   "id": "0ccb5da6",
   "metadata": {},
   "outputs": [
    {
     "data": {
      "text/plain": [
       "array([[1],\n",
       "       [2],\n",
       "       [3],\n",
       "       [4],\n",
       "       [5],\n",
       "       [6]])"
      ]
     },
     "execution_count": 166,
     "metadata": {},
     "output_type": "execute_result"
    }
   ],
   "source": [
    "np.array([[1, 2, 3, 4, 5, 6]]).T"
   ]
  },
  {
   "cell_type": "markdown",
   "id": "3d3203a9",
   "metadata": {},
   "source": [
    "## 1.10 Aplatir une matrice"
   ]
  },
  {
   "cell_type": "code",
   "execution_count": 167,
   "id": "cbc104de",
   "metadata": {},
   "outputs": [
    {
     "data": {
      "text/plain": [
       "array([1, 2, 3, 4, 5, 6, 7, 8, 9])"
      ]
     },
     "execution_count": 167,
     "metadata": {},
     "output_type": "execute_result"
    }
   ],
   "source": [
    "matrice = np.array([[1, 2, 3],\n",
    "                   [4, 5, 6],\n",
    "                   [7, 8, 9]]) #Creation d'une matrice de 3 lignes et 3 colonnes.\n",
    "\n",
    "# Aplatir la matrice\n",
    "matrice.flatten()"
   ]
  },
  {
   "cell_type": "markdown",
   "id": "22241b50",
   "metadata": {},
   "source": [
    "flatten est une méthode simple pour transformer une matrice en un tableau unidimensionnel. Alternativement, nous pouvons utiliser reshape pour créer un vecteur ligne :"
   ]
  },
  {
   "cell_type": "code",
   "execution_count": 168,
   "id": "240ef352",
   "metadata": {},
   "outputs": [
    {
     "data": {
      "text/plain": [
       "array([[1, 2, 3, 4, 5, 6, 7, 8, 9]])"
      ]
     },
     "execution_count": 168,
     "metadata": {},
     "output_type": "execute_result"
    }
   ],
   "source": [
    "matrice.reshape(1, -1)"
   ]
  },
  {
   "cell_type": "markdown",
   "id": "c307ccaf",
   "metadata": {},
   "source": [
    "## 1.11 Trouver le rang d'une matrice"
   ]
  },
  {
   "cell_type": "code",
   "execution_count": 169,
   "id": "45ac4871",
   "metadata": {},
   "outputs": [
    {
     "data": {
      "text/plain": [
       "2"
      ]
     },
     "execution_count": 169,
     "metadata": {},
     "output_type": "execute_result"
    }
   ],
   "source": [
    "matrice = np.array([[1, 1, 1],\n",
    "                   [1, 1, 10],\n",
    "                   [1, 1, 15]]) #Creation d'une matrice de 3 lignes et 3 colonnes.\n",
    "\n",
    "# Renvoyer le rang de la matrice\n",
    "np.linalg.matrix_rank(matrice)"
   ]
  },
  {
   "cell_type": "markdown",
   "id": "248475ed",
   "metadata": {},
   "source": [
    "Le rang d'une matrice correspond aux dimensions de l'espace vectoriel couvert par ses colonnes ou ses lignes. Trouver le rang d'une matrice est facile dans NumPy grâce à Matrix_rank."
   ]
  },
  {
   "cell_type": "markdown",
   "id": "a328ab94",
   "metadata": {},
   "source": [
    "## 1.12 Calcul du déterminant"
   ]
  },
  {
   "cell_type": "code",
   "execution_count": 170,
   "id": "fd36d5de",
   "metadata": {},
   "outputs": [
    {
     "data": {
      "text/plain": [
       "0.0"
      ]
     },
     "execution_count": 170,
     "metadata": {},
     "output_type": "execute_result"
    }
   ],
   "source": [
    "matrice = np.array([[1, 2, 3],\n",
    "                   [2, 4, 6],\n",
    "                   [3, 8, 9]]) #Creation d'une matrice de 3 lignes et 3 colonnes.\n",
    "\n",
    "# Retourne le Déterminant de la matrice\n",
    "np.linalg.det(matrice)"
   ]
  },
  {
   "cell_type": "markdown",
   "id": "cc6ab979",
   "metadata": {},
   "source": [
    "Il peut parfois être utile de calculer le déterminant d'une matrice. NumPy rend cela facile avec det."
   ]
  },
  {
   "cell_type": "markdown",
   "id": "c2eb9657",
   "metadata": {},
   "source": [
    "## 1.13 Obtenir la diagonale d'une matrice"
   ]
  },
  {
   "cell_type": "code",
   "execution_count": 171,
   "id": "4979c9a0",
   "metadata": {},
   "outputs": [
    {
     "data": {
      "text/plain": [
       "array([1, 4, 9])"
      ]
     },
     "execution_count": 171,
     "metadata": {},
     "output_type": "execute_result"
    }
   ],
   "source": [
    "matrice = np.array([[1, 2, 3],\n",
    "                   [2, 4, 6],\n",
    "                   [3, 8, 9]]) #Creation d'une matrice de 3 lignes et 3 colonnes.\n",
    "\n",
    "# Retourne les éléments diagonaux\n",
    "matrice.diagonal()"
   ]
  },
  {
   "cell_type": "markdown",
   "id": "0bc1ce47",
   "metadata": {},
   "source": [
    "NumPy facilite l'obtention des éléments diagonaux d'une matrice avec la diagonale. Il est également possible d'obtenir une diagonale par rapport à la diagonale principale en utilisant le paramètre offset :"
   ]
  },
  {
   "cell_type": "code",
   "execution_count": 172,
   "id": "2fbc6a71",
   "metadata": {},
   "outputs": [
    {
     "data": {
      "text/plain": [
       "array([2, 6])"
      ]
     },
     "execution_count": 172,
     "metadata": {},
     "output_type": "execute_result"
    }
   ],
   "source": [
    "# Retourne la diagonale une au-dessus de la diagonale principale\n",
    "matrice.diagonal(offset=1)"
   ]
  },
  {
   "cell_type": "code",
   "execution_count": 173,
   "id": "9420a350",
   "metadata": {},
   "outputs": [
    {
     "data": {
      "text/plain": [
       "array([2, 8])"
      ]
     },
     "execution_count": 173,
     "metadata": {},
     "output_type": "execute_result"
    }
   ],
   "source": [
    "# Retourne la diagonale une au-dessous de la diagonale principale\n",
    "matrice.diagonal(offset=-1)"
   ]
  },
  {
   "cell_type": "markdown",
   "id": "0f438bd6",
   "metadata": {},
   "source": [
    "## 1.14 Calcul de la trace d'une matrice"
   ]
  },
  {
   "cell_type": "code",
   "execution_count": 174,
   "id": "4128c9cb",
   "metadata": {},
   "outputs": [
    {
     "data": {
      "text/plain": [
       "14"
      ]
     },
     "execution_count": 174,
     "metadata": {},
     "output_type": "execute_result"
    }
   ],
   "source": [
    "matrice = np.array([[1, 2, 3],\n",
    "                   [2, 4, 6],\n",
    "                   [3, 8, 9]]) #Creation d'une matrice de 3 lignes et 3 colonnes.\n",
    "\n",
    "# Retourne la Trace d'une matrice\n",
    "matrice.trace()"
   ]
  },
  {
   "cell_type": "markdown",
   "id": "2b97280b",
   "metadata": {},
   "source": [
    "La trace d'une matrice est la somme des éléments diagonaux et est souvent utilisée sous le capot dans les méthodes d'apprentissage automatique. Étant donné un tableau multidimensionnel NumPy, nous pouvons calculer la trace à l'aide de trace. On peut aussi renvoyer la diagonale d'une matrice et calculer sa somme :"
   ]
  },
  {
   "cell_type": "code",
   "execution_count": 175,
   "id": "40fca8d8",
   "metadata": {},
   "outputs": [
    {
     "data": {
      "text/plain": [
       "14"
      ]
     },
     "execution_count": 175,
     "metadata": {},
     "output_type": "execute_result"
    }
   ],
   "source": [
    "# Renvoie les éléments de diagonale et de somme\n",
    "sum(matrice.diagonal())"
   ]
  },
  {
   "cell_type": "markdown",
   "id": "5d1c0050",
   "metadata": {},
   "source": [
    "## 1.15 Recherche de valeurs propres et de vecteurs propres"
   ]
  },
  {
   "cell_type": "markdown",
   "id": "25bcc268",
   "metadata": {},
   "source": [
    "Les vecteurs propres sont largement utilisés dans les bibliothèques d'apprentissage automatique. Intuitivement, étant donné une transformation linéaire représentée par une matrice A, les vecteurs propres sont des vecteurs qui, lorsque cette transformation est appliquée, ne changent que d'échelle (et non de direction). Plus formellement:\n",
    "\n",
    "                                                        Av = λv\n",
    "                                                        \n",
    "où A est une matrice carrée, λ contient les valeurs propres et v contient les vecteurs propres. Dans l'ensemble d'outils d'algèbre linéaire de NumPy, eig nous permet de calculer les valeurs propres et les vecteurs propres de n'importe quelle matrice carrée."
   ]
  },
  {
   "cell_type": "code",
   "execution_count": 176,
   "id": "20a36798",
   "metadata": {},
   "outputs": [
    {
     "data": {
      "text/plain": [
       "array([13.55075847,  0.74003145, -3.29078992])"
      ]
     },
     "execution_count": 176,
     "metadata": {},
     "output_type": "execute_result"
    }
   ],
   "source": [
    "matrice = np.array([[1, -1, 3],\n",
    "                   [1, 1, 6],\n",
    "                   [3, 8, 9]]) #Creation d'une matrice de 3 lignes et 3 colonnes.\n",
    "\n",
    "# Calculer les valeurs propres et les vecteurs propres\n",
    "eigenvalues, eigenvectors = np.linalg.eig(matrice)\n",
    "#Affiche les valeurs propres\n",
    "eigenvalues"
   ]
  },
  {
   "cell_type": "code",
   "execution_count": 177,
   "id": "aa428fdf",
   "metadata": {},
   "outputs": [
    {
     "data": {
      "text/plain": [
       "array([[-0.17622017, -0.96677403, -0.53373322],\n",
       "       [-0.435951  ,  0.2053623 , -0.64324848],\n",
       "       [-0.88254925,  0.15223105,  0.54896288]])"
      ]
     },
     "execution_count": 177,
     "metadata": {},
     "output_type": "execute_result"
    }
   ],
   "source": [
    "# Afficher les vecteurs propres\n",
    "eigenvectors"
   ]
  },
  {
   "cell_type": "markdown",
   "id": "152465aa",
   "metadata": {},
   "source": [
    "## 1.16 Calcul des produits scalaires"
   ]
  },
  {
   "cell_type": "markdown",
   "id": "2e84df84",
   "metadata": {},
   "source": [
    "Le produit scalaire de deux vecteurs, a et b, est défini comme :\n",
    "\n",
    "\n",
    "$$\n",
    "{\\sum_{i = 1}^{n} {a_i}{b_i}}\n",
    "$$\n",
    "\n",
    "où ai est le ième élément du vecteur a. Nous pouvons utiliser la classe dot de NumPy pour calculer le produit scalaire. Alternativement, dans Python 3.5+, nous pouvons utiliser le nouvel opérateur @ :"
   ]
  },
  {
   "cell_type": "code",
   "execution_count": 178,
   "id": "fb84b384",
   "metadata": {},
   "outputs": [
    {
     "data": {
      "text/plain": [
       "32"
      ]
     },
     "execution_count": 178,
     "metadata": {},
     "output_type": "execute_result"
    }
   ],
   "source": [
    "# Création de deux vecteurs\n",
    "vecteur_a = np.array([1,2,3]) \n",
    "vecteur_b = np.array([4,5,6])\n",
    "# Calculate dot product\n",
    "np.dot(vecteur_a, vecteur_b)"
   ]
  },
  {
   "cell_type": "code",
   "execution_count": 179,
   "id": "60d6a2c5",
   "metadata": {},
   "outputs": [
    {
     "data": {
      "text/plain": [
       "32"
      ]
     },
     "execution_count": 179,
     "metadata": {},
     "output_type": "execute_result"
    }
   ],
   "source": [
    "# Calculate dot product\n",
    "vecteur_a @ vecteur_b"
   ]
  },
  {
   "cell_type": "markdown",
   "id": "266d0c77",
   "metadata": {},
   "source": [
    "## 1.17 Ajout et soustraction de matrices"
   ]
  },
  {
   "cell_type": "code",
   "execution_count": 180,
   "id": "f8ae1c96",
   "metadata": {},
   "outputs": [
    {
     "data": {
      "text/plain": [
       "array([[ 2,  4,  2],\n",
       "       [ 2,  4,  2],\n",
       "       [ 2,  4, 10]])"
      ]
     },
     "execution_count": 180,
     "metadata": {},
     "output_type": "execute_result"
    }
   ],
   "source": [
    "#Creation d'une matrice de 3 lignes et 3 colonnes.\n",
    "matrice_a = np.array([[1, 1, 1],\n",
    "                     [1, 1, 1],\n",
    "                     [1, 1, 2]])\n",
    "\n",
    "#Creation d'une matrice de 3 lignes et 3 colonnes.\n",
    "matrice_b = np.array([[1, 3, 1],\n",
    "                     [1, 3, 1],\n",
    "                     [1, 3, 8]])\n",
    "# L'addition de deux matrices\n",
    "np.add(matrice_a, matrice_b)"
   ]
  },
  {
   "cell_type": "code",
   "execution_count": 181,
   "id": "feeaebe0",
   "metadata": {},
   "outputs": [
    {
     "data": {
      "text/plain": [
       "array([[ 0, -2,  0],\n",
       "       [ 0, -2,  0],\n",
       "       [ 0, -2, -6]])"
      ]
     },
     "execution_count": 181,
     "metadata": {},
     "output_type": "execute_result"
    }
   ],
   "source": [
    "# Soustraction de deux matrices\n",
    "np.subtract(matrice_a, matrice_b)"
   ]
  },
  {
   "cell_type": "markdown",
   "id": "4c397de4",
   "metadata": {},
   "source": [
    "Alternativement, nous pouvons simplement utiliser les opérateurs + et - :"
   ]
  },
  {
   "cell_type": "code",
   "execution_count": 182,
   "id": "503f3821",
   "metadata": {},
   "outputs": [
    {
     "data": {
      "text/plain": [
       "array([[ 2,  4,  2],\n",
       "       [ 2,  4,  2],\n",
       "       [ 2,  4, 10]])"
      ]
     },
     "execution_count": 182,
     "metadata": {},
     "output_type": "execute_result"
    }
   ],
   "source": [
    "# Addition de deux matrices\n",
    "matrice_a + matrice_b"
   ]
  },
  {
   "cell_type": "markdown",
   "id": "fe68bc35",
   "metadata": {},
   "source": [
    "## 1.18 Multiplication de matrices"
   ]
  },
  {
   "cell_type": "code",
   "execution_count": 183,
   "id": "8568f2df",
   "metadata": {},
   "outputs": [
    {
     "data": {
      "text/plain": [
       "array([[2, 5],\n",
       "       [3, 7]])"
      ]
     },
     "execution_count": 183,
     "metadata": {},
     "output_type": "execute_result"
    }
   ],
   "source": [
    "# Creation de la premiere matrice_a\n",
    "matrice_a = np.array([[1, 1],\n",
    "                     [1, 2]])\n",
    "# Creation de la deuxieme matrice_b\n",
    "matrice_b = np.array([[1, 3],\n",
    "                     [1, 2]])\n",
    "# Multiplication de deux matrices\n",
    "np.dot(matrice_a, matrice_b)"
   ]
  },
  {
   "cell_type": "markdown",
   "id": "19e8132f",
   "metadata": {},
   "source": [
    "Alternativement, dans Python 3.5+, nous pouvons utiliser l'opérateur @ :"
   ]
  },
  {
   "cell_type": "code",
   "execution_count": 184,
   "id": "a118fc9e",
   "metadata": {},
   "outputs": [
    {
     "data": {
      "text/plain": [
       "array([[2, 5],\n",
       "       [3, 7]])"
      ]
     },
     "execution_count": 184,
     "metadata": {},
     "output_type": "execute_result"
    }
   ],
   "source": [
    "# Multiplier deux matrices\n",
    "matrice_a @ matrice_b"
   ]
  },
  {
   "cell_type": "markdown",
   "id": "9c6d7a19",
   "metadata": {},
   "source": [
    "Si nous voulons effectuer une multiplication élément par élément, nous pouvons utiliser l'opérateur * :"
   ]
  },
  {
   "cell_type": "code",
   "execution_count": 185,
   "id": "3bff8867",
   "metadata": {},
   "outputs": [
    {
     "data": {
      "text/plain": [
       "array([[1, 3],\n",
       "       [1, 4]])"
      ]
     },
     "execution_count": 185,
     "metadata": {},
     "output_type": "execute_result"
    }
   ],
   "source": [
    "# Multiplier deux matrices par éléments\n",
    "matrix_a * matrix_b"
   ]
  },
  {
   "cell_type": "markdown",
   "id": "7e63481f",
   "metadata": {},
   "source": [
    "## 1.19 Inverser une matrice"
   ]
  },
  {
   "cell_type": "markdown",
   "id": "0e3aa53a",
   "metadata": {},
   "source": [
    "L’inverse d’une matrice carrée, A, est une deuxième matrice  $A^{-1}$ telle que $A.A^{-1}= I$ :\n",
    "\n",
    "où I est la matrice identité. Dans NumPy, nous pouvons utiliser linalg.inv pour calculer A–1 s'il existe. Pour voir cela en action, nous pouvons multiplier une matrice par son inverse et le résultat est la matrice identité :"
   ]
  },
  {
   "cell_type": "code",
   "execution_count": 186,
   "id": "8204875d",
   "metadata": {},
   "outputs": [
    {
     "data": {
      "text/plain": [
       "array([[-1.66666667,  1.33333333],\n",
       "       [ 0.66666667, -0.33333333]])"
      ]
     },
     "execution_count": 186,
     "metadata": {},
     "output_type": "execute_result"
    }
   ],
   "source": [
    "# Creation de la matrice\n",
    "matrice = np.array([[1, 4],\n",
    "                   [2, 5]])\n",
    "# Calculer l'inverse de la matrice\n",
    "np.linalg.inv(matrix)"
   ]
  },
  {
   "cell_type": "code",
   "execution_count": 187,
   "id": "9432b61b",
   "metadata": {},
   "outputs": [
    {
     "data": {
      "text/plain": [
       "array([[1., 0.],\n",
       "       [0., 1.]])"
      ]
     },
     "execution_count": 187,
     "metadata": {},
     "output_type": "execute_result"
    }
   ],
   "source": [
    "# Matrice de multiplication et son inverse\n",
    "matrice @ np.linalg.inv(matrice)"
   ]
  },
  {
   "cell_type": "markdown",
   "id": "4d552725",
   "metadata": {},
   "source": [
    "## 1.20 Génération de valeurs aléatoires"
   ]
  },
  {
   "cell_type": "markdown",
   "id": "5df2ec78",
   "metadata": {},
   "source": [
    "NumPy offre une grande variété de moyens pour générer des nombres aléatoires, bien plus que ce qui peut être abordé ici. Dans notre solution, nous avons généré des flottants:"
   ]
  },
  {
   "cell_type": "code",
   "execution_count": 188,
   "id": "b07ee0a6",
   "metadata": {},
   "outputs": [
    {
     "data": {
      "text/plain": [
       "array([0.5488135 , 0.71518937, 0.60276338])"
      ]
     },
     "execution_count": 188,
     "metadata": {},
     "output_type": "execute_result"
    }
   ],
   "source": [
    "# Set seed\n",
    "np.random.seed(0)\n",
    "# Générer trois flottants aléatoires entre 0,0 et 1,0\n",
    "np.random.random(3)"
   ]
  },
  {
   "cell_type": "code",
   "execution_count": 189,
   "id": "3886c923",
   "metadata": {},
   "outputs": [
    {
     "data": {
      "text/plain": [
       "array([3, 7, 9])"
      ]
     },
     "execution_count": 189,
     "metadata": {},
     "output_type": "execute_result"
    }
   ],
   "source": [
    "# Générer trois entiers aléatoires entre 1 et 10\n",
    "np.random.randint(0, 11, 3)"
   ]
  },
  {
   "cell_type": "code",
   "execution_count": 190,
   "id": "6deaa757",
   "metadata": {},
   "outputs": [
    {
     "data": {
      "text/plain": [
       "array([-1.42232584,  1.52006949, -0.29139398])"
      ]
     },
     "execution_count": 190,
     "metadata": {},
     "output_type": "execute_result"
    }
   ],
   "source": [
    "# Alternativement, nous pouvons générer des nombres en tirant d'une distribution :\n",
    "# Génére trois nombres d'une distribution normale de moyenne 0,0\n",
    "# et écart type de 1,0\n",
    "np.random.normal(0.0, 1.0, 3)"
   ]
  },
  {
   "cell_type": "code",
   "execution_count": 191,
   "id": "155d5365",
   "metadata": {},
   "outputs": [
    {
     "data": {
      "text/plain": [
       "array([-0.98118713, -0.08939902,  1.46416405])"
      ]
     },
     "execution_count": 191,
     "metadata": {},
     "output_type": "execute_result"
    }
   ],
   "source": [
    "#Génére trois nombres à partir d'une distribution logistique avec une moyenne de 0,0 et une échelle de 1,0\n",
    "np.random.logistic(0.0, 1.0, 3)"
   ]
  },
  {
   "cell_type": "code",
   "execution_count": 192,
   "id": "a726bed4",
   "metadata": {
    "scrolled": true
   },
   "outputs": [
    {
     "data": {
      "text/plain": [
       "array([1.47997717, 1.3927848 , 1.83607876])"
      ]
     },
     "execution_count": 192,
     "metadata": {},
     "output_type": "execute_result"
    }
   ],
   "source": [
    "#Génére trois nombres supérieurs ou égaux à 1,0 et inférieurs à 2,0\n",
    "np.random.uniform(1.0, 2.0, 3)"
   ]
  },
  {
   "cell_type": "markdown",
   "id": "f2190271",
   "metadata": {},
   "source": [
    "\n",
    "                                        \n",
    "                                                        Contacts\n",
    "                                             - mbulayi.onesime@unikin.ac.cd\n",
    "                                                   - mbonesime@gmai.com"
   ]
  }
 ],
 "metadata": {
  "kernelspec": {
   "display_name": "Python 3 (ipykernel)",
   "language": "python",
   "name": "python3"
  },
  "language_info": {
   "codemirror_mode": {
    "name": "ipython",
    "version": 3
   },
   "file_extension": ".py",
   "mimetype": "text/x-python",
   "name": "python",
   "nbconvert_exporter": "python",
   "pygments_lexer": "ipython3",
   "version": "3.11.5"
  }
 },
 "nbformat": 4,
 "nbformat_minor": 5
}
